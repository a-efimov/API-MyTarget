{
 "cells": [
  {
   "cell_type": "code",
   "execution_count": null,
   "metadata": {},
   "outputs": [],
   "source": [
    "import requests\n",
    "import json\n",
    "import pandas as pd\n",
    "import sys"
   ]
  },
  {
   "cell_type": "code",
   "execution_count": null,
   "metadata": {},
   "outputs": [],
   "source": [
    "# Задаем переменные\n",
    "\n",
    "# url, по которому будем забирать из API MyTarget статистику по кампаниям\n",
    "# day означает, что получаем статистику по дням\n",
    "url = \"https://target.my.com/api/v2/statistics/banners/day.json\"\n",
    "\n",
    "# конечно, токен лучше не передавать в исходном виде, но здесь это допустимо.\n",
    "access_token = 'xxxxx'\n",
    "\n",
    "# формируем заголовок запроса\n",
    "headers = {\"Authorization\": \"Bearer \" + access_token}\n",
    "\n",
    "# диапазон дат периода, по которому получаем статистику\n",
    "date_from = '2021-01-10'\n",
    "date_to = '2021-01-10'\n",
    "\n",
    "# формируем список параметров\n",
    "# all  означает, что выгружаем всю статистику\n",
    "params = {\n",
    "    \"date_from\": date_from,\n",
    "    \"date_to\": date_to,\n",
    "    \"metrics\": 'all',\n",
    "}"
   ]
  },
  {
   "cell_type": "code",
   "execution_count": null,
   "metadata": {},
   "outputs": [],
   "source": [
    "# отправляем запрос, если происходит ошибка, выводим ее\n",
    "response = requests.get(url, params=params, headers=headers)\n",
    "if response.status_code != 200:\n",
    "    print(\"Failed to load statistics:\", response.status_code, response.json())\n",
    "    sys.exit(1)\n",
    "    \n",
    "load_data = response.json()"
   ]
  },
  {
   "cell_type": "code",
   "execution_count": null,
   "metadata": {},
   "outputs": [],
   "source": [
    "# преобразем получившийся json в датафрейм\n",
    "\n",
    "processed_rows = []\n",
    "\n",
    "all_stat = load_data[\"items\"]\n",
    "for one_ad_stat in all_stat:\n",
    "    ad_id = one_ad_stat[\"id\"]\n",
    "    one_ad_all_dates_stat = one_ad_stat[\"rows\"]\n",
    "\n",
    "    for one_ad_one_date_stat in one_ad_all_dates_stat:\n",
    "\n",
    "        one_ad_one_date_stat.update({\n",
    "            \"id\": ad_id,\n",
    "        })\n",
    "\n",
    "        row = pd.json_normalize(one_ad_one_date_stat, sep=\"_\").to_dict(\"records\")\n",
    "        processed_rows += row\n",
    "\n",
    "report_df = pd.DataFrame(processed_rows)"
   ]
  },
  {
   "cell_type": "code",
   "execution_count": null,
   "metadata": {},
   "outputs": [],
   "source": [
    "report_df.head()"
   ]
  },
  {
   "cell_type": "code",
   "execution_count": null,
   "metadata": {},
   "outputs": [],
   "source": []
  }
 ],
 "metadata": {
  "kernelspec": {
   "display_name": "Python 3",
   "language": "python",
   "name": "python3"
  },
  "language_info": {
   "codemirror_mode": {
    "name": "ipython",
    "version": 3
   },
   "file_extension": ".py",
   "mimetype": "text/x-python",
   "name": "python",
   "nbconvert_exporter": "python",
   "pygments_lexer": "ipython3",
   "version": "3.8.5"
  }
 },
 "nbformat": 4,
 "nbformat_minor": 2
}

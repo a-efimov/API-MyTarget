{
 "cells": [
  {
   "cell_type": "code",
   "execution_count": null,
   "metadata": {},
   "outputs": [],
   "source": [
    "import requests\n",
    "import json"
   ]
  },
  {
   "cell_type": "code",
   "execution_count": null,
   "metadata": {},
   "outputs": [],
   "source": [
    "# Задаем переменные\n",
    "\n",
    "# client_id можно получить в ЛК MyTarget\n",
    "client_id = 'xxxxx'\n",
    "\n",
    "# client_secret можно получить в ЛК MyTarget\n",
    "client_secret = 'xxxxx'\n",
    "\n",
    "# refresh_token можно получить при первичной запроса access_token\n",
    "refresh_token = 'xxxxx'\n",
    "\n",
    "# url, по которому будем забирать из API MyTarget статистику по кампаниям\n",
    "url = 'https://target.my.com/api/v2/oauth2/token.json'\n",
    "\n",
    "# формируем список параметров\n",
    "params = {\n",
    "            'grant_type': 'refresh_token',\n",
    "            'refresh_token': refresh_token,\n",
    "            'client_id': client_id,\n",
    "            'client_secret': client_secret\n",
    "}"
   ]
  },
  {
   "cell_type": "code",
   "execution_count": null,
   "metadata": {},
   "outputs": [],
   "source": [
    "# отправляем запрос\n",
    "resp = requests.post(url, data=params)\n",
    "resp.status_code"
   ]
  },
  {
   "cell_type": "code",
   "execution_count": null,
   "metadata": {},
   "outputs": [],
   "source": [
    "# смотрим полный результат запроса\n",
    "resp.json()"
   ]
  },
  {
   "cell_type": "code",
   "execution_count": null,
   "metadata": {},
   "outputs": [],
   "source": [
    "# получаем токен\n",
    "access_token_new = resp.json()['access_token']\n",
    "access_token_new"
   ]
  },
  {
   "cell_type": "code",
   "execution_count": null,
   "metadata": {},
   "outputs": [],
   "source": []
  }
 ],
 "metadata": {
  "kernelspec": {
   "display_name": "Python 3",
   "language": "python",
   "name": "python3"
  },
  "language_info": {
   "codemirror_mode": {
    "name": "ipython",
    "version": 3
   },
   "file_extension": ".py",
   "mimetype": "text/x-python",
   "name": "python",
   "nbconvert_exporter": "python",
   "pygments_lexer": "ipython3",
   "version": "3.8.5"
  }
 },
 "nbformat": 4,
 "nbformat_minor": 4
}
